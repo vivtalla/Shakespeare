{
 "cells": [
  {
   "cell_type": "code",
   "execution_count": 4,
   "metadata": {},
   "outputs": [],
   "source": [
    "%matplotlib inline\n",
    "\n",
    "import pandas as pd\n",
    "import numpy as np\n",
    "import matplotlib.pyplot as plt\n",
    "import seaborn as sns\n",
    "sns.set(style=\"darkgrid\")"
   ]
  },
  {
   "cell_type": "code",
   "execution_count": 12,
   "metadata": {},
   "outputs": [
    {
     "name": "stderr",
     "output_type": "stream",
     "text": [
      "/Users/Vivek/anaconda3/lib/python3.6/site-packages/sklearn/cross_validation.py:41: DeprecationWarning: This module was deprecated in version 0.18 in favor of the model_selection module into which all the refactored classes and functions are moved. Also note that the interface of the new CV iterators are different from that of this module. This module will be removed in 0.20.\n",
      "  \"This module will be removed in 0.20.\", DeprecationWarning)\n"
     ]
    }
   ],
   "source": [
    "from sklearn.cross_validation import train_test_split\n",
    "from sklearn.tree import DecisionTreeClassifier\n",
    "from sklearn.metrics import accuracy_score\n",
    "from sklearn import tree"
   ]
  },
  {
   "cell_type": "code",
   "execution_count": 13,
   "metadata": {},
   "outputs": [],
   "source": [
    "df = pd.read_csv('Shakespeare_data.csv')"
   ]
  },
  {
   "cell_type": "code",
   "execution_count": 6,
   "metadata": {},
   "outputs": [
    {
     "data": {
      "text/plain": [
       "<bound method NDFrame.head of         Dataline            Play  PlayerLinenumber ActSceneLine  \\\n",
       "0              1        Henry IV               NaN          NaN   \n",
       "1              2        Henry IV               NaN          NaN   \n",
       "2              3        Henry IV               NaN          NaN   \n",
       "3              4        Henry IV               1.0        1.1.1   \n",
       "4              5        Henry IV               1.0        1.1.2   \n",
       "5              6        Henry IV               1.0        1.1.3   \n",
       "6              7        Henry IV               1.0        1.1.4   \n",
       "7              8        Henry IV               1.0        1.1.5   \n",
       "8              9        Henry IV               1.0        1.1.6   \n",
       "9             10        Henry IV               1.0        1.1.7   \n",
       "10            11        Henry IV               1.0        1.1.8   \n",
       "11            12        Henry IV               1.0        1.1.9   \n",
       "12            13        Henry IV               1.0       1.1.10   \n",
       "13            14        Henry IV               1.0       1.1.11   \n",
       "14            15        Henry IV               1.0       1.1.12   \n",
       "15            16        Henry IV               1.0       1.1.13   \n",
       "16            17        Henry IV               1.0       1.1.14   \n",
       "17            18        Henry IV               1.0       1.1.15   \n",
       "18            19        Henry IV               1.0       1.1.16   \n",
       "19            20        Henry IV               1.0       1.1.17   \n",
       "20            21        Henry IV               1.0       1.1.18   \n",
       "21            22        Henry IV               1.0       1.1.19   \n",
       "22            23        Henry IV               1.0       1.1.20   \n",
       "23            24        Henry IV               1.0       1.1.21   \n",
       "24            25        Henry IV               1.0       1.1.22   \n",
       "25            26        Henry IV               1.0       1.1.23   \n",
       "26            27        Henry IV               1.0       1.1.24   \n",
       "27            28        Henry IV               1.0       1.1.25   \n",
       "28            29        Henry IV               1.0       1.1.26   \n",
       "29            30        Henry IV               1.0       1.1.27   \n",
       "...          ...             ...               ...          ...   \n",
       "111366    111367  A Winters Tale              37.0      5.3.155   \n",
       "111367    111368  A Winters Tale              37.0      5.3.156   \n",
       "111368    111369  A Winters Tale              37.0      5.3.157   \n",
       "111369    111370  A Winters Tale              37.0      5.3.158   \n",
       "111370    111371  A Winters Tale              37.0      5.3.159   \n",
       "111371    111372  A Winters Tale              37.0      5.3.160   \n",
       "111372    111373  A Winters Tale              37.0      5.3.161   \n",
       "111373    111374  A Winters Tale              37.0      5.3.162   \n",
       "111374    111375  A Winters Tale              38.0      5.3.163   \n",
       "111375    111376  A Winters Tale              38.0      5.3.164   \n",
       "111376    111377  A Winters Tale              38.0      5.3.165   \n",
       "111377    111378  A Winters Tale              38.0      5.3.166   \n",
       "111378    111379  A Winters Tale              38.0      5.3.167   \n",
       "111379    111380  A Winters Tale              38.0      5.3.168   \n",
       "111380    111381  A Winters Tale              38.0      5.3.169   \n",
       "111381    111382  A Winters Tale              38.0      5.3.170   \n",
       "111382    111383  A Winters Tale              38.0      5.3.171   \n",
       "111383    111384  A Winters Tale              38.0      5.3.172   \n",
       "111384    111385  A Winters Tale              38.0      5.3.173   \n",
       "111385    111386  A Winters Tale              38.0      5.3.174   \n",
       "111386    111387  A Winters Tale              38.0      5.3.175   \n",
       "111387    111388  A Winters Tale              38.0      5.3.176   \n",
       "111388    111389  A Winters Tale              38.0      5.3.177   \n",
       "111389    111390  A Winters Tale              38.0      5.3.178   \n",
       "111390    111391  A Winters Tale              38.0      5.3.179   \n",
       "111391    111392  A Winters Tale              38.0      5.3.180   \n",
       "111392    111393  A Winters Tale              38.0      5.3.181   \n",
       "111393    111394  A Winters Tale              38.0      5.3.182   \n",
       "111394    111395  A Winters Tale              38.0      5.3.183   \n",
       "111395    111396  A Winters Tale              38.0          NaN   \n",
       "\n",
       "               Player                                         PlayerLine  \n",
       "0                 NaN                                              ACT I  \n",
       "1                 NaN                       SCENE I. London. The palace.  \n",
       "2                 NaN  Enter KING HENRY, LORD JOHN OF LANCASTER, the ...  \n",
       "3       KING HENRY IV             So shaken as we are, so wan with care,  \n",
       "4       KING HENRY IV         Find we a time for frighted peace to pant,  \n",
       "5       KING HENRY IV     And breathe short-winded accents of new broils  \n",
       "6       KING HENRY IV            To be commenced in strands afar remote.  \n",
       "7       KING HENRY IV          No more the thirsty entrance of this soil  \n",
       "8       KING HENRY IV  Shall daub her lips with her own children's bl...  \n",
       "9       KING HENRY IV   Nor more shall trenching war channel her fields,  \n",
       "10      KING HENRY IV      Nor bruise her flowerets with the armed hoofs  \n",
       "11      KING HENRY IV              Of hostile paces: those opposed eyes,  \n",
       "12      KING HENRY IV      Which, like the meteors of a troubled heaven,  \n",
       "13      KING HENRY IV          All of one nature, of one substance bred,  \n",
       "14      KING HENRY IV             Did lately meet in the intestine shock  \n",
       "15      KING HENRY IV                And furious close of civil butchery  \n",
       "16      KING HENRY IV         Shall now, in mutual well-beseeming ranks,  \n",
       "17      KING HENRY IV           March all one way and be no more opposed  \n",
       "18      KING HENRY IV          Against acquaintance, kindred and allies:  \n",
       "19      KING HENRY IV       The edge of war, like an ill-sheathed knife,  \n",
       "20      KING HENRY IV  No more shall cut his master. Therefore, friends,  \n",
       "21      KING HENRY IV              As far as to the sepulchre of Christ,  \n",
       "22      KING HENRY IV       Whose soldier now, under whose blessed cross  \n",
       "23      KING HENRY IV             We are impressed and engaged to fight,  \n",
       "24      KING HENRY IV        Forthwith a power of English shall we levy,  \n",
       "25      KING HENRY IV     Whose arms were moulded in their mothers' womb  \n",
       "26      KING HENRY IV         To chase these pagans in those holy fields  \n",
       "27      KING HENRY IV         Over whose acres walk'd those blessed feet  \n",
       "28      KING HENRY IV       Which fourteen hundred years ago were nail'd  \n",
       "29      KING HENRY IV             For our advantage on the bitter cross.  \n",
       "...               ...                                                ...  \n",
       "111366        PAULINA                      There's time enough for that,  \n",
       "111367        PAULINA         Lest they desire upon this push to trouble  \n",
       "111368        PAULINA         Your joys with like relation. Go together,  \n",
       "111369        PAULINA          You precious winners all, your exultation  \n",
       "111370        PAULINA            Partake to every one. I, an old turtle,  \n",
       "111371        PAULINA      Will wing me to some wither'd bough and there  \n",
       "111372        PAULINA           My mate, that's never to be found again,  \n",
       "111373        PAULINA                             Lament till I am lost.  \n",
       "111374        LEONTES                                 O, peace, Paulina!  \n",
       "111375        LEONTES        Thou shouldst a husband take by my consent,  \n",
       "111376        LEONTES             As I by thine a wife: this is a match,  \n",
       "111377        LEONTES  And made between's by vows. Thou hast found mine,  \n",
       "111378        LEONTES       But how, is to be question'd, for I saw her,  \n",
       "111379        LEONTES     As I thought, dead, and have in vain said many  \n",
       "111380        LEONTES       A prayer upon her grave. I'll not seek far--  \n",
       "111381        LEONTES      For him, I partly know his mind--to find thee  \n",
       "111382        LEONTES              An honourable husband. Come, Camillo,  \n",
       "111383        LEONTES  And take her by the hand, whose worth and honesty  \n",
       "111384        LEONTES                 Is richly noted and here justified  \n",
       "111385        LEONTES     By us, a pair of kings. Let's from this place.  \n",
       "111386        LEONTES     What! look upon my brother: both your pardons,  \n",
       "111387        LEONTES            That e'er I put between your holy looks  \n",
       "111388        LEONTES         My ill suspicion. This is your son-in-law,  \n",
       "111389        LEONTES     And son unto the king, who, heavens directing,  \n",
       "111390        LEONTES    Is troth-plight to your daughter. Good Paulina,  \n",
       "111391        LEONTES         Lead us from hence, where we may leisurely  \n",
       "111392        LEONTES              Each one demand an answer to his part  \n",
       "111393        LEONTES     Perform'd in this wide gap of time since first  \n",
       "111394        LEONTES             We were dissever'd: hastily lead away.  \n",
       "111395        LEONTES                                             Exeunt  \n",
       "\n",
       "[111396 rows x 6 columns]>"
      ]
     },
     "execution_count": 6,
     "metadata": {},
     "output_type": "execute_result"
    }
   ],
   "source": [
    "df.head\n"
   ]
  },
  {
   "cell_type": "code",
   "execution_count": 7,
   "metadata": {},
   "outputs": [
    {
     "data": {
      "text/plain": [
       "GLOUCESTER          1920\n",
       "HAMLET              1582\n",
       "IAGO                1161\n",
       "FALSTAFF            1117\n",
       "KING HENRY V        1086\n",
       "BRUTUS              1051\n",
       "OTHELLO              928\n",
       "MARK ANTONY          927\n",
       "KING HENRY VI        917\n",
       "DUKE VINCENTIO       909\n",
       "TIMON                875\n",
       "QUEEN MARGARET       847\n",
       "Clown                804\n",
       "KING LEAR            801\n",
       "KING RICHARD II      794\n",
       "MACBETH              783\n",
       "TITUS ANDRONICUS     768\n",
       "PROSPERO             745\n",
       "CLEOPATRA            742\n",
       "YORK                 740\n",
       "HELENA               735\n",
       "LEONTES              720\n",
       "CORIOLANUS           717\n",
       "ROSALIND             711\n",
       "PORTIA               707\n",
       "WARWICK              690\n",
       "BUCKINGHAM           668\n",
       "ROMEO                651\n",
       "BIRON                647\n",
       "PERICLES             645\n",
       "                    ... \n",
       "First Messenger        1\n",
       "ANOTHER                1\n",
       "Third Musician         1\n",
       "A Lord                 1\n",
       "ARMADO                 1\n",
       "HORTENSIA              1\n",
       "Second Roman           1\n",
       "First Commoner         1\n",
       "WORCESTER              1\n",
       "Second murderer        1\n",
       "GENTLEMEN              1\n",
       "Carrier                1\n",
       "HERNIA                 1\n",
       "Soldiers               1\n",
       "PHILEMON               1\n",
       "Ostler                 1\n",
       "Haberdasher            1\n",
       "ATTENDANT              1\n",
       "Second Attendant       1\n",
       "Marshal                1\n",
       "All the Goths          1\n",
       "Some Speak             1\n",
       "MYRMIDONS              1\n",
       "Second Pirate          1\n",
       "Second Neighbour       1\n",
       "First Roman            1\n",
       "TAURUS                 1\n",
       "VAUGHAN                1\n",
       "Mariners               1\n",
       "PHRYNIA                1\n",
       "Name: Player, Length: 934, dtype: int64"
      ]
     },
     "execution_count": 7,
     "metadata": {},
     "output_type": "execute_result"
    }
   ],
   "source": [
    "df[\"Player\"].value_counts()"
   ]
  },
  {
   "cell_type": "markdown",
   "metadata": {},
   "source": [
    "Before we perform classification, I wanted to see all the different player possibilites we have from the data set"
   ]
  },
  {
   "cell_type": "code",
   "execution_count": 8,
   "metadata": {},
   "outputs": [
    {
     "name": "stdout",
     "output_type": "stream",
     "text": [
      "<class 'pandas.core.frame.DataFrame'>\n",
      "RangeIndex: 111396 entries, 0 to 111395\n",
      "Data columns (total 6 columns):\n",
      "Dataline            111396 non-null int64\n",
      "Play                111396 non-null object\n",
      "PlayerLinenumber    111393 non-null float64\n",
      "ActSceneLine        105153 non-null object\n",
      "Player              111389 non-null object\n",
      "PlayerLine          111396 non-null object\n",
      "dtypes: float64(1), int64(1), object(4)\n",
      "memory usage: 5.1+ MB\n"
     ]
    }
   ],
   "source": [
    "df.info()"
   ]
  },
  {
   "cell_type": "code",
   "execution_count": 9,
   "metadata": {},
   "outputs": [
    {
     "data": {
      "text/plain": [
       "Index(['Dataline', 'Play', 'PlayerLinenumber', 'ActSceneLine', 'Player',\n",
       "       'PlayerLine'],\n",
       "      dtype='object')"
      ]
     },
     "execution_count": 9,
     "metadata": {},
     "output_type": "execute_result"
    }
   ],
   "source": [
    "df.columns\n"
   ]
  },
  {
   "cell_type": "code",
   "execution_count": 10,
   "metadata": {},
   "outputs": [],
   "source": [
    "X = df[['Dataline', 'Play', 'PlayerLinenumber', 'ActSceneLine', 'PlayerLine']]\n",
    "Y = df[['Player']]"
   ]
  },
  {
   "cell_type": "code",
   "execution_count": 24,
   "metadata": {},
   "outputs": [],
   "source": [
    "X = np.array(X)\n",
    "Y = np.array(Y)"
   ]
  },
  {
   "cell_type": "markdown",
   "metadata": {},
   "source": [
    "X is the set of predictor variables, and Y is the outcome variable. This will be used while testing the different classification models. Additionally I will need to make a training and a test set given that I am solving a supervised learning problem."
   ]
  },
  {
   "cell_type": "code",
   "execution_count": 25,
   "metadata": {},
   "outputs": [],
   "source": [
    "X_train, X_test, y_train, y_test = train_test_split( X, Y, test_size = 0.2, random_state = 100)"
   ]
  },
  {
   "cell_type": "markdown",
   "metadata": {},
   "source": [
    "The first classification model I'm going to try to use is a decision tree. "
   ]
  },
  {
   "cell_type": "code",
   "execution_count": 17,
   "metadata": {},
   "outputs": [
    {
     "ename": "ValueError",
     "evalue": "could not convert string to float: 'fain be about the ears of the English.'",
     "output_type": "error",
     "traceback": [
      "\u001b[0;31m---------------------------------------------------------------------------\u001b[0m",
      "\u001b[0;31mValueError\u001b[0m                                Traceback (most recent call last)",
      "\u001b[0;32m<ipython-input-17-9f7b4c9e9352>\u001b[0m in \u001b[0;36m<module>\u001b[0;34m()\u001b[0m\n\u001b[1;32m      2\u001b[0m clf_gini = DecisionTreeClassifier(criterion = \"entropy\", random_state = 100,\n\u001b[1;32m      3\u001b[0m                                max_depth=3, min_samples_leaf=5, max_features = \"string\")\n\u001b[0;32m----> 4\u001b[0;31m \u001b[0mclf_gini\u001b[0m\u001b[0;34m.\u001b[0m\u001b[0mfit\u001b[0m\u001b[0;34m(\u001b[0m\u001b[0mX_train\u001b[0m\u001b[0;34m,\u001b[0m \u001b[0my_train\u001b[0m\u001b[0;34m)\u001b[0m\u001b[0;34m\u001b[0m\u001b[0m\n\u001b[0m",
      "\u001b[0;32m~/anaconda3/lib/python3.6/site-packages/sklearn/tree/tree.py\u001b[0m in \u001b[0;36mfit\u001b[0;34m(self, X, y, sample_weight, check_input, X_idx_sorted)\u001b[0m\n\u001b[1;32m    788\u001b[0m             \u001b[0msample_weight\u001b[0m\u001b[0;34m=\u001b[0m\u001b[0msample_weight\u001b[0m\u001b[0;34m,\u001b[0m\u001b[0;34m\u001b[0m\u001b[0m\n\u001b[1;32m    789\u001b[0m             \u001b[0mcheck_input\u001b[0m\u001b[0;34m=\u001b[0m\u001b[0mcheck_input\u001b[0m\u001b[0;34m,\u001b[0m\u001b[0;34m\u001b[0m\u001b[0m\n\u001b[0;32m--> 790\u001b[0;31m             X_idx_sorted=X_idx_sorted)\n\u001b[0m\u001b[1;32m    791\u001b[0m         \u001b[0;32mreturn\u001b[0m \u001b[0mself\u001b[0m\u001b[0;34m\u001b[0m\u001b[0m\n\u001b[1;32m    792\u001b[0m \u001b[0;34m\u001b[0m\u001b[0m\n",
      "\u001b[0;32m~/anaconda3/lib/python3.6/site-packages/sklearn/tree/tree.py\u001b[0m in \u001b[0;36mfit\u001b[0;34m(self, X, y, sample_weight, check_input, X_idx_sorted)\u001b[0m\n\u001b[1;32m    114\u001b[0m         \u001b[0mrandom_state\u001b[0m \u001b[0;34m=\u001b[0m \u001b[0mcheck_random_state\u001b[0m\u001b[0;34m(\u001b[0m\u001b[0mself\u001b[0m\u001b[0;34m.\u001b[0m\u001b[0mrandom_state\u001b[0m\u001b[0;34m)\u001b[0m\u001b[0;34m\u001b[0m\u001b[0m\n\u001b[1;32m    115\u001b[0m         \u001b[0;32mif\u001b[0m \u001b[0mcheck_input\u001b[0m\u001b[0;34m:\u001b[0m\u001b[0;34m\u001b[0m\u001b[0m\n\u001b[0;32m--> 116\u001b[0;31m             \u001b[0mX\u001b[0m \u001b[0;34m=\u001b[0m \u001b[0mcheck_array\u001b[0m\u001b[0;34m(\u001b[0m\u001b[0mX\u001b[0m\u001b[0;34m,\u001b[0m \u001b[0mdtype\u001b[0m\u001b[0;34m=\u001b[0m\u001b[0mDTYPE\u001b[0m\u001b[0;34m,\u001b[0m \u001b[0maccept_sparse\u001b[0m\u001b[0;34m=\u001b[0m\u001b[0;34m\"csc\"\u001b[0m\u001b[0;34m)\u001b[0m\u001b[0;34m\u001b[0m\u001b[0m\n\u001b[0m\u001b[1;32m    117\u001b[0m             \u001b[0my\u001b[0m \u001b[0;34m=\u001b[0m \u001b[0mcheck_array\u001b[0m\u001b[0;34m(\u001b[0m\u001b[0my\u001b[0m\u001b[0;34m,\u001b[0m \u001b[0mensure_2d\u001b[0m\u001b[0;34m=\u001b[0m\u001b[0;32mFalse\u001b[0m\u001b[0;34m,\u001b[0m \u001b[0mdtype\u001b[0m\u001b[0;34m=\u001b[0m\u001b[0;32mNone\u001b[0m\u001b[0;34m)\u001b[0m\u001b[0;34m\u001b[0m\u001b[0m\n\u001b[1;32m    118\u001b[0m             \u001b[0;32mif\u001b[0m \u001b[0missparse\u001b[0m\u001b[0;34m(\u001b[0m\u001b[0mX\u001b[0m\u001b[0;34m)\u001b[0m\u001b[0;34m:\u001b[0m\u001b[0;34m\u001b[0m\u001b[0m\n",
      "\u001b[0;32m~/anaconda3/lib/python3.6/site-packages/sklearn/utils/validation.py\u001b[0m in \u001b[0;36mcheck_array\u001b[0;34m(array, accept_sparse, dtype, order, copy, force_all_finite, ensure_2d, allow_nd, ensure_min_samples, ensure_min_features, warn_on_dtype, estimator)\u001b[0m\n\u001b[1;32m    431\u001b[0m                                       force_all_finite)\n\u001b[1;32m    432\u001b[0m     \u001b[0;32melse\u001b[0m\u001b[0;34m:\u001b[0m\u001b[0;34m\u001b[0m\u001b[0m\n\u001b[0;32m--> 433\u001b[0;31m         \u001b[0marray\u001b[0m \u001b[0;34m=\u001b[0m \u001b[0mnp\u001b[0m\u001b[0;34m.\u001b[0m\u001b[0marray\u001b[0m\u001b[0;34m(\u001b[0m\u001b[0marray\u001b[0m\u001b[0;34m,\u001b[0m \u001b[0mdtype\u001b[0m\u001b[0;34m=\u001b[0m\u001b[0mdtype\u001b[0m\u001b[0;34m,\u001b[0m \u001b[0morder\u001b[0m\u001b[0;34m=\u001b[0m\u001b[0morder\u001b[0m\u001b[0;34m,\u001b[0m \u001b[0mcopy\u001b[0m\u001b[0;34m=\u001b[0m\u001b[0mcopy\u001b[0m\u001b[0;34m)\u001b[0m\u001b[0;34m\u001b[0m\u001b[0m\n\u001b[0m\u001b[1;32m    434\u001b[0m \u001b[0;34m\u001b[0m\u001b[0m\n\u001b[1;32m    435\u001b[0m         \u001b[0;32mif\u001b[0m \u001b[0mensure_2d\u001b[0m\u001b[0;34m:\u001b[0m\u001b[0;34m\u001b[0m\u001b[0m\n",
      "\u001b[0;31mValueError\u001b[0m: could not convert string to float: 'fain be about the ears of the English.'"
     ]
    }
   ],
   "source": [
    "\n",
    "clf_gini = DecisionTreeClassifier(criterion = \"entropy\", random_state = 100,\n",
    "                               max_depth=3, min_samples_leaf=5, max_features = \"string\")\n",
    "clf_gini.fit(X_train, y_train)"
   ]
  },
  {
   "cell_type": "markdown",
   "metadata": {},
   "source": [
    "The decision tree classifier from Sci-Kit learn doesn't work on strings, so I will need to find a way to have numeric input instead. To do this I will try the One-Hot encoding method"
   ]
  },
  {
   "cell_type": "code",
   "execution_count": 18,
   "metadata": {},
   "outputs": [],
   "source": [
    "df = pd.get_dummies(df)"
   ]
  },
  {
   "cell_type": "code",
   "execution_count": 26,
   "metadata": {},
   "outputs": [
    {
     "ename": "ValueError",
     "evalue": "could not convert string to float: 'fain be about the ears of the English.'",
     "output_type": "error",
     "traceback": [
      "\u001b[0;31m---------------------------------------------------------------------------\u001b[0m",
      "\u001b[0;31mValueError\u001b[0m                                Traceback (most recent call last)",
      "\u001b[0;32m<ipython-input-26-070863d322a6>\u001b[0m in \u001b[0;36m<module>\u001b[0;34m()\u001b[0m\n\u001b[1;32m      1\u001b[0m clf_gini = DecisionTreeClassifier(criterion = \"gini\", random_state = 100,\n\u001b[1;32m      2\u001b[0m                                max_depth=3, min_samples_leaf=5,)\n\u001b[0;32m----> 3\u001b[0;31m \u001b[0mclf_gini\u001b[0m\u001b[0;34m.\u001b[0m\u001b[0mfit\u001b[0m\u001b[0;34m(\u001b[0m\u001b[0mX_train\u001b[0m\u001b[0;34m,\u001b[0m \u001b[0my_train\u001b[0m\u001b[0;34m)\u001b[0m\u001b[0;34m\u001b[0m\u001b[0m\n\u001b[0m",
      "\u001b[0;32m~/anaconda3/lib/python3.6/site-packages/sklearn/tree/tree.py\u001b[0m in \u001b[0;36mfit\u001b[0;34m(self, X, y, sample_weight, check_input, X_idx_sorted)\u001b[0m\n\u001b[1;32m    788\u001b[0m             \u001b[0msample_weight\u001b[0m\u001b[0;34m=\u001b[0m\u001b[0msample_weight\u001b[0m\u001b[0;34m,\u001b[0m\u001b[0;34m\u001b[0m\u001b[0m\n\u001b[1;32m    789\u001b[0m             \u001b[0mcheck_input\u001b[0m\u001b[0;34m=\u001b[0m\u001b[0mcheck_input\u001b[0m\u001b[0;34m,\u001b[0m\u001b[0;34m\u001b[0m\u001b[0m\n\u001b[0;32m--> 790\u001b[0;31m             X_idx_sorted=X_idx_sorted)\n\u001b[0m\u001b[1;32m    791\u001b[0m         \u001b[0;32mreturn\u001b[0m \u001b[0mself\u001b[0m\u001b[0;34m\u001b[0m\u001b[0m\n\u001b[1;32m    792\u001b[0m \u001b[0;34m\u001b[0m\u001b[0m\n",
      "\u001b[0;32m~/anaconda3/lib/python3.6/site-packages/sklearn/tree/tree.py\u001b[0m in \u001b[0;36mfit\u001b[0;34m(self, X, y, sample_weight, check_input, X_idx_sorted)\u001b[0m\n\u001b[1;32m    114\u001b[0m         \u001b[0mrandom_state\u001b[0m \u001b[0;34m=\u001b[0m \u001b[0mcheck_random_state\u001b[0m\u001b[0;34m(\u001b[0m\u001b[0mself\u001b[0m\u001b[0;34m.\u001b[0m\u001b[0mrandom_state\u001b[0m\u001b[0;34m)\u001b[0m\u001b[0;34m\u001b[0m\u001b[0m\n\u001b[1;32m    115\u001b[0m         \u001b[0;32mif\u001b[0m \u001b[0mcheck_input\u001b[0m\u001b[0;34m:\u001b[0m\u001b[0;34m\u001b[0m\u001b[0m\n\u001b[0;32m--> 116\u001b[0;31m             \u001b[0mX\u001b[0m \u001b[0;34m=\u001b[0m \u001b[0mcheck_array\u001b[0m\u001b[0;34m(\u001b[0m\u001b[0mX\u001b[0m\u001b[0;34m,\u001b[0m \u001b[0mdtype\u001b[0m\u001b[0;34m=\u001b[0m\u001b[0mDTYPE\u001b[0m\u001b[0;34m,\u001b[0m \u001b[0maccept_sparse\u001b[0m\u001b[0;34m=\u001b[0m\u001b[0;34m\"csc\"\u001b[0m\u001b[0;34m)\u001b[0m\u001b[0;34m\u001b[0m\u001b[0m\n\u001b[0m\u001b[1;32m    117\u001b[0m             \u001b[0my\u001b[0m \u001b[0;34m=\u001b[0m \u001b[0mcheck_array\u001b[0m\u001b[0;34m(\u001b[0m\u001b[0my\u001b[0m\u001b[0;34m,\u001b[0m \u001b[0mensure_2d\u001b[0m\u001b[0;34m=\u001b[0m\u001b[0;32mFalse\u001b[0m\u001b[0;34m,\u001b[0m \u001b[0mdtype\u001b[0m\u001b[0;34m=\u001b[0m\u001b[0;32mNone\u001b[0m\u001b[0;34m)\u001b[0m\u001b[0;34m\u001b[0m\u001b[0m\n\u001b[1;32m    118\u001b[0m             \u001b[0;32mif\u001b[0m \u001b[0missparse\u001b[0m\u001b[0;34m(\u001b[0m\u001b[0mX\u001b[0m\u001b[0;34m)\u001b[0m\u001b[0;34m:\u001b[0m\u001b[0;34m\u001b[0m\u001b[0m\n",
      "\u001b[0;32m~/anaconda3/lib/python3.6/site-packages/sklearn/utils/validation.py\u001b[0m in \u001b[0;36mcheck_array\u001b[0;34m(array, accept_sparse, dtype, order, copy, force_all_finite, ensure_2d, allow_nd, ensure_min_samples, ensure_min_features, warn_on_dtype, estimator)\u001b[0m\n\u001b[1;32m    431\u001b[0m                                       force_all_finite)\n\u001b[1;32m    432\u001b[0m     \u001b[0;32melse\u001b[0m\u001b[0;34m:\u001b[0m\u001b[0;34m\u001b[0m\u001b[0m\n\u001b[0;32m--> 433\u001b[0;31m         \u001b[0marray\u001b[0m \u001b[0;34m=\u001b[0m \u001b[0mnp\u001b[0m\u001b[0;34m.\u001b[0m\u001b[0marray\u001b[0m\u001b[0;34m(\u001b[0m\u001b[0marray\u001b[0m\u001b[0;34m,\u001b[0m \u001b[0mdtype\u001b[0m\u001b[0;34m=\u001b[0m\u001b[0mdtype\u001b[0m\u001b[0;34m,\u001b[0m \u001b[0morder\u001b[0m\u001b[0;34m=\u001b[0m\u001b[0morder\u001b[0m\u001b[0;34m,\u001b[0m \u001b[0mcopy\u001b[0m\u001b[0;34m=\u001b[0m\u001b[0mcopy\u001b[0m\u001b[0;34m)\u001b[0m\u001b[0;34m\u001b[0m\u001b[0m\n\u001b[0m\u001b[1;32m    434\u001b[0m \u001b[0;34m\u001b[0m\u001b[0m\n\u001b[1;32m    435\u001b[0m         \u001b[0;32mif\u001b[0m \u001b[0mensure_2d\u001b[0m\u001b[0;34m:\u001b[0m\u001b[0;34m\u001b[0m\u001b[0m\n",
      "\u001b[0;31mValueError\u001b[0m: could not convert string to float: 'fain be about the ears of the English.'"
     ]
    }
   ],
   "source": [
    "clf_gini = DecisionTreeClassifier(criterion = \"gini\", random_state = 100,\n",
    "                               max_depth=3, min_samples_leaf=5,)\n",
    "clf_gini.fit(X_train, y_train)"
   ]
  },
  {
   "cell_type": "code",
   "execution_count": null,
   "metadata": {},
   "outputs": [],
   "source": []
  }
 ],
 "metadata": {
  "kernelspec": {
   "display_name": "Python 3",
   "language": "python",
   "name": "python3"
  },
  "language_info": {
   "codemirror_mode": {
    "name": "ipython",
    "version": 3
   },
   "file_extension": ".py",
   "mimetype": "text/x-python",
   "name": "python",
   "nbconvert_exporter": "python",
   "pygments_lexer": "ipython3",
   "version": "3.6.5"
  }
 },
 "nbformat": 4,
 "nbformat_minor": 2
}
